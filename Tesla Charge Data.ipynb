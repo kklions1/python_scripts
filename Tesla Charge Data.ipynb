{
 "cells": [
  {
   "cell_type": "markdown",
   "metadata": {},
   "source": [
    "# The Purpose of this notebook is to track the useage of my home charging for my Tesla Model 3"
   ]
  },
  {
   "cell_type": "code",
   "execution_count": 1,
   "metadata": {},
   "outputs": [],
   "source": [
    "import json \n",
    "import csv"
   ]
  },
  {
   "cell_type": "code",
   "execution_count": 2,
   "metadata": {},
   "outputs": [],
   "source": [
    "keys = ['vehicle_name',\n",
    "        'vin',\n",
    "        'timezone',\n",
    "        'start_time', \n",
    "        'end_time',\n",
    "        'odometer',\n",
    "        'power_drawn',\n",
    "        'energy_added',\n",
    "        'start_range',\n",
    "        'end_range', \n",
    "        'range_added',\n",
    "        'duration',\n",
    "        'supercharging',\n",
    "        'supercharger',\n",
    "        'max_charge_power', \n",
    "        'fast_charger_present',\n",
    "        'connector_type', 'location',\n",
    "        'coordinates',\n",
    "        'user_charge_location', \n",
    "        'cost', \n",
    "        'temperature']"
   ]
  },
  {
   "cell_type": "markdown",
   "metadata": {},
   "source": [
    "Below is a list of .csv files to parse.\n",
    "To process more data, simply add the spreadsheet to the folder and add to this list"
   ]
  },
  {
   "cell_type": "code",
   "execution_count": 3,
   "metadata": {},
   "outputs": [],
   "source": [
    "filenames = ['september_charge.csv']\n",
    "total_cost_list = []\n",
    "total_charge_list = []"
   ]
  },
  {
   "cell_type": "code",
   "execution_count": 4,
   "metadata": {},
   "outputs": [],
   "source": [
    "def filter_address(address): \n",
    "    return address == \"Near 1226 Cheviot Ct\""
   ]
  },
  {
   "cell_type": "code",
   "execution_count": 5,
   "metadata": {},
   "outputs": [
    {
     "name": "stdout",
     "output_type": "stream",
     "text": [
      "Total Charged (kwh):  227.98000000000002\n",
      "Total Cost @ 12 cents/kwh: $ 28.5\n"
     ]
    }
   ],
   "source": [
    "for filename in filenames: \n",
    "    \n",
    "    with open(filename, newline='') as file: \n",
    "        data = csv.DictReader(file, fieldnames=keys)\n",
    "        next(data) # discard the first row\n",
    "        charge_added_total = 0\n",
    "        total_cost = 0\n",
    "        \n",
    "        for row in data: \n",
    "            if row['supercharging'] == 'false' and filter_address(row['user_charge_location']):\n",
    "                charge_added_total += float(row['energy_added'])\n",
    "                total_cost += float(row['cost'])\n",
    "\n",
    "\n",
    "        # total_cost = round(charge_added_total * .12, 2)\n",
    "        total_cost_list.append(total_cost)\n",
    "        total_charge_list.append(charge_added_total)\n",
    "        print(\"Total Charged (kwh): \", charge_added_total)\n",
    "        print(\"Total Cost @ 12 cents/kwh: $\", total_cost)\n"
   ]
  },
  {
   "cell_type": "code",
   "execution_count": 6,
   "metadata": {},
   "outputs": [
    {
     "name": "stdout",
     "output_type": "stream",
     "text": [
      "[]\n",
      "[]\n"
     ]
    }
   ],
   "source": [
    "print(total_cost_list)\n",
    "print(total_charge_list)"
   ]
  }
 ],
 "metadata": {
  "kernelspec": {
   "display_name": "Python 3",
   "language": "python",
   "name": "python3"
  },
  "language_info": {
   "codemirror_mode": {
    "name": "ipython",
    "version": 3
   },
   "file_extension": ".py",
   "mimetype": "text/x-python",
   "name": "python",
   "nbconvert_exporter": "python",
   "pygments_lexer": "ipython3",
   "version": "3.8.2"
  }
 },
 "nbformat": 4,
 "nbformat_minor": 4
}
