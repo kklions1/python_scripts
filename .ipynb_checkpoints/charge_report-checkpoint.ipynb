{
 "cells": [
  {
   "cell_type": "code",
   "execution_count": null,
   "metadata": {},
   "outputs": [],
   "source": [
    "import json \n",
    "import csv"
   ]
  },
  {
   "cell_type": "code",
   "execution_count": null,
   "metadata": {},
   "outputs": [],
   "source": [
    "keys = ['vehicle_name',\n",
    "        'vin',\n",
    "        'timezone',\n",
    "        'start_time', \n",
    "        'end_time',\n",
    "        'odometer',\n",
    "        'power_drawn',\n",
    "        'energy_added',\n",
    "        'start_range',\n",
    "        'end_range', \n",
    "        'range_added',\n",
    "        'duration',\n",
    "        'supercharging',\n",
    "        'supercharger',\n",
    "        'max_charge_power', \n",
    "        'fast_charger_present',\n",
    "        'connector_type', 'location',\n",
    "        'coordinates',\n",
    "        'user_charge_location', \n",
    "        'cost', \n",
    "        'temperature']"
   ]
  },
  {
   "cell_type": "code",
   "execution_count": null,
   "metadata": {},
   "outputs": [],
   "source": []
  }
 ],
 "metadata": {
  "kernelspec": {
   "display_name": "Python 3",
   "language": "python",
   "name": "python3"
  },
  "language_info": {
   "codemirror_mode": {
    "name": "ipython",
    "version": 3
   },
   "file_extension": ".py",
   "mimetype": "text/x-python",
   "name": "python",
   "nbconvert_exporter": "python",
   "pygments_lexer": "ipython3",
   "version": "3.8.2"
  }
 },
 "nbformat": 4,
 "nbformat_minor": 4
}
